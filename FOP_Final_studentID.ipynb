{
 "cells": [
  {
   "cell_type": "markdown",
   "metadata": {},
   "source": [
    "# Final Assessment\n",
    "\n",
    "### Name:\n",
    "### Student ID:\n",
    "____\n",
    "\n",
    "### Instructions:\n",
    "\n",
    "* This Final Assessment has **Five Questions worth 50 Marks**. \n",
    "* You should attempt **ALL QUESTIONS**\n",
    "* Put your name and ID into the space above\n",
    "* Rename the Notebook to include your Student ID before going any further...\n",
    "* You must answer within this Jupyter Notebook and submit the saved notebook and data/code files to Blackboard.\n",
    "* Supplied data files can be viewed and edited through the Jupyter Notebook dashboard.\n",
    "* You should also complete and submit the **Declaration of Originality** for this assessment.\n",
    "* When finished, make sure the notebook is saved, then zip it and the data/code files together and upload it to Blackboard \n",
    "\n",
    "### Contents:\n",
    "\n",
    "* [Question1](#Question-1)\n",
    "* [Question2](#Question-2)\n",
    "* [Question3](#Question-3)\n",
    "* [Question4](#Question-4)\n",
    "* [Question5](#Question-5)\n",
    "\n",
    "\n",
    "___"
   ]
  },
  {
   "cell_type": "markdown",
   "metadata": {},
   "source": [
    "### Question 1 - Data Types and Data Handling    (12 marks)\n",
    "\n",
    "#### Question 1a (2 marks)\n",
    "\n",
    "Write code to **define and print** an example of each of the following data types:\n",
    "1. int, float and boolean **(1/2 mark)**\n",
    "1. string and list **(1/2 mark)**\n",
    "1. tuple and set **(1 mark)**"
   ]
  },
  {
   "cell_type": "code",
   "execution_count": null,
   "metadata": {
    "collapsed": true
   },
   "outputs": [],
   "source": [
    "# answer Question 1a here...\n"
   ]
  },
  {
   "cell_type": "markdown",
   "metadata": {},
   "source": [
    "#### Question 1b (2 marks)\n",
    "\n",
    "Given the initial lists provided, use **list comprehensions** to create the following new lists, then **print** them:\n",
    "\n",
    "1. mashup = List with new names made up of the first word in creeps plus the second word in peeps (e.g. first elements are: 'Gomez Cleese', 'Morticia Palin') **(1 mark)**\n",
    "1. revinit = List of strings with the initial character of the second word in peeps, then the initial character of the first word of meeps (e.g. first elements are: 'LF', 'FE') **(1 mark)**"
   ]
  },
  {
   "cell_type": "code",
   "execution_count": null,
   "metadata": {
    "collapsed": false
   },
   "outputs": [],
   "source": [
    "meeps = [\"Foghorn Leghorn\", \"Elmer Fudd\", \"Road Runner\", \"Bugs Bunny\", \"Daffy Duck\", \"Tasmanian Devil\"]\n",
    "peeps = [\"John Cleese\", \"Michael Palin\", \"Terry Gilliam\", \"Terry Jones\", \"Graham Chapman\",\"Eric Idle\"]\n",
    "creeps = [\"Gomez Addamms\", \"Morticia Addams\", \"Wednesdday Addams\", \"Pugsley Addams\", \"Uncle Fester\", \"Cousin Itt\"]\n",
    "\n",
    "mashup = [creeps[i].split()[0]+\" \"+ peeps[i].split()[1] for i in range(len(peeps))]\n",
    "print(mashup)\n",
    "revinit = [s[s.find(\" \")+1]+s[0] for s in meeps]\n",
    "print(revinit)\n",
    "\n"
   ]
  },
  {
   "cell_type": "markdown",
   "metadata": {},
   "source": [
    "#### Question 1c (4 marks)\n",
    "\n",
    "Using the Thing definition, extend the code below to:\n",
    "1. Create objects described below and add to the **thraThings** list **(2 marks)**\n",
    "   1. Create 2 Things of variant \"Gelfling\" at a random x,y position between 10 and 15\n",
    "   1. Create 9 Things of variant \"Skeksis\" at a random x,y position between 0 and 10\n",
    "   1. Create 9 Things of variant \"Mystic\" at a random x,y position between 15 and 20\n",
    "1. Print out the type and position of all of the Things in **thraThings**  **(2 marks)**"
   ]
  },
  {
   "cell_type": "code",
   "execution_count": null,
   "metadata": {
    "collapsed": false
   },
   "outputs": [],
   "source": [
    "import random\n",
    "\n",
    "class Thing():\n",
    "    def __init__(self, xpos, ypos, variant):\n",
    "        self.x = xpos\n",
    "        self.y = ypos\n",
    "        self.variant = variant\n",
    "        \n",
    "# Answer\n",
    "\n",
    "thraThings = []         \n"
   ]
  },
  {
   "cell_type": "markdown",
   "metadata": {},
   "source": [
    "###### Question 1d (4 marks)\n",
    "\n",
    "Using the Cheese Shop script (copyright Monty Python) process the text to:\n",
    "1. Count the number of words in the text, ignoring the first line and the character's names  **(1 mark)**\n",
    "1. Output the number of unique words **(1/2 mark)**\n",
    "1. Output the number of times the word \"cheese\" is used **(1 mark)**\n",
    "1. Output the number of words that only appear once **(1/2 mark)**\n",
    "1. Output the five most frequent words, and the number of times they appear  **(1 mark)**\n",
    "\n",
    "Code all answers to **ignore case**\n"
   ]
  },
  {
   "cell_type": "code",
   "execution_count": null,
   "metadata": {
    "collapsed": false
   },
   "outputs": [],
   "source": [
    "filename = 'cheeseshop.txt'       # supplied in zip file\n",
    "book = open(filename).read()\n",
    "print(\"\\n TEXT ANALYSIS \\n\")\n",
    "\n",
    "\n"
   ]
  },
  {
   "cell_type": "markdown",
   "metadata": {},
   "source": [
    "### * [Back to Top](#Contents)\n",
    "____\n",
    "### Question 2 - Arrays, Grids and Plotting (7 marks)\n",
    "\n",
    "#### Question 2a (4 marks)\n",
    "\n",
    "Starting with the code and data below, modify and extend it to:\n",
    "\n",
    "1. Modify **heatsource.csv** (edit the file itself) to have *four 10's in the centre of the grid*     **(1/2 mark)**\n",
    "1. Add inline comments explain *each line* after \"# read in heat source\"  **(1 mark)**\n",
    "1. Replace the colour map with a map of your choice                       **(1/2 mark)**\n",
    "1. Increase the number of timesteps to 10 and display the plot at each timestep of the simulation                    **(1/2 mark)**\n",
    "1. Change the type of neighbourhood used to calculate the next value for each grid cell (weightings are not important) **(1 mark)**\n",
    "1. Print the minimum and maximum values in the final heat array **(1/2 mark)**\n"
   ]
  },
  {
   "cell_type": "code",
   "execution_count": null,
   "metadata": {
    "collapsed": false
   },
   "outputs": [],
   "source": [
    "import numpy as np\n",
    "import matplotlib.pyplot as plt\n",
    "%matplotlib inline\n",
    "\n",
    "def calcheat(b, r, c):                                        \n",
    "    result = (b[r-1,c]*0.1 + b[r-1,c-1]*0.05 + b[r,c-1]*0.1 + b[r-1,c+1]*0.05 + b[r,c]*0.4 + \n",
    "              b[r,c+1]*0.1 + b[r+1,c-1]*0.05 + b[r+1,c]*0.1 + b[r+1,c+1]*0.1 )\n",
    "    return result\n",
    "\n",
    "size = 10\n",
    "\n",
    "# read in heat source\n",
    "hlist = []\n",
    "fileobj = open('heatsource.csv','r')\n",
    "for line in fileobj:\n",
    "    ints = [int(x) for x in line.split(',')]\n",
    "    hlist.append(ints)\n",
    "fileobj.close()\n",
    "\n",
    "heat = np.array(hlist, dtype=int)\n",
    "curr = heat.copy()\n",
    "nextt = np.zeros((size,size))\n",
    "\n",
    "for timestep in range(5):\n",
    "    for r in range(1, size-1):                              \n",
    "        for c in range (1, size-1 ):                          \n",
    "            nextt[r,c] = calcheat(curr, r, c)\n",
    "\n",
    "    nextt = np.where(heat>nextt, heat, nextt)          \n",
    "    curr = nextt.copy()                                       \n",
    "\n",
    "plt.imshow(nextt, cmap=plt.cm.hot)\n",
    "plt.show()\n"
   ]
  },
  {
   "cell_type": "markdown",
   "metadata": {},
   "source": [
    "#### Question 2b (3 marks) \n",
    "\n",
    "Write some code to:\n",
    "\n",
    "1. Create a variable called **particle** at a random x,y position between 0 and 5  **(1 mark)**\n",
    "1. Over 10 steps, move the particle by one of: (-1,0,1) in both x and y dimensions **(1 mark)**\n",
    "1. Plot the path of the particle **(1 mark)**"
   ]
  },
  {
   "cell_type": "code",
   "execution_count": null,
   "metadata": {
    "collapsed": true
   },
   "outputs": [],
   "source": [
    "# answer Question 2b here...\n",
    "\n",
    "    "
   ]
  },
  {
   "cell_type": "markdown",
   "metadata": {},
   "source": [
    "* [Back to Top](#Contents)\n",
    "____\n",
    "### Question 3 - Functions and Structured Data (13 marks)\n",
    "\n",
    "#### Question 3a (1 mark)\n",
    "\n",
    "List three (3) benefits of using functions and methods in your programs"
   ]
  },
  {
   "cell_type": "markdown",
   "metadata": {},
   "source": [
    "*Answer for 3a...*"
   ]
  },
  {
   "cell_type": "markdown",
   "metadata": {},
   "source": [
    "#### Question 3b (1 mark)\n",
    "\n",
    "List two (2) differences between Pandas dataframes and numpy arrays. "
   ]
  },
  {
   "cell_type": "markdown",
   "metadata": {},
   "source": [
    "*Answer for 3b...*"
   ]
  },
  {
   "cell_type": "markdown",
   "metadata": {},
   "source": [
    "#### Question 3c (2 marks)\n",
    "\n",
    "Give two examples of where you would use exception handling, and how it is of benefit in each situation **(1 mark each)** "
   ]
  },
  {
   "cell_type": "markdown",
   "metadata": {},
   "source": [
    "*Answer for 3c...*"
   ]
  },
  {
   "cell_type": "markdown",
   "metadata": {},
   "source": [
    "#### Question 3d (3 marks)\n",
    "\n",
    "Create a new module **rollingfun.py** in the Final Assessment directory. You can do this in the dashboard for Jupyter Notebook.\n",
    "\n",
    "It should include the following functions:\n",
    "\n",
    "1. **oneroll()** - rolls a six sided dice once, returning a random number in the 1-6 range **(1 mark)**\n",
    "1. **manyroll(x)** - rolls a six sided dice x times, returning a six element list of roll counts in the 1-6 range **(1 mark)**\n",
    " \n",
    "Write code to import and test the functions **(1 mark)**"
   ]
  },
  {
   "cell_type": "code",
   "execution_count": null,
   "metadata": {
    "collapsed": true
   },
   "outputs": [],
   "source": [
    "#Answer for 3d..."
   ]
  },
  {
   "cell_type": "markdown",
   "metadata": {},
   "source": [
    "#### Question 3e (3 marks)\n",
    "\n",
    "Given the animal list in the below code...\n",
    "\n",
    "1. Write a function to make random hybrid animals e.g. \"Tiger Stork\" or \"Reindeer Snail\"  **(1 mark)**\n",
    "1. Write code to generate ten hybrid animals using the function **(1 mark)**\n",
    "1. Write the list to a file, hybrid.txt **(1 mark)**"
   ]
  },
  {
   "cell_type": "code",
   "execution_count": null,
   "metadata": {
    "collapsed": false
   },
   "outputs": [],
   "source": [
    "# Answer for 3e ...\n",
    "fileobj = open(\"animals.txt\", \"r\")\n",
    "animal_list = fileobj.readlines()\n",
    "#print(animal_list)\n"
   ]
  },
  {
   "cell_type": "markdown",
   "metadata": {},
   "source": [
    "#### Question 3f (3 marks)\n",
    "\n",
    "Using **pandas**, work with the file **nchs-mortality-report.csv** - NCHS Mortality Surveillance Data. *Retrieved from https://www.cdc.gov/coronavirus/2019-ncov/covid-data/covidview/11062020/nchs-mortality-report.html on 13 Nov 2020*\n",
    "\n",
    "Write code to:\n",
    "1. Read in the data and print the dataframe **(1/2 mark)**\n",
    "1. Print the **maximum** statistics for \"Influenza Deaths\" and for \"COVID-19 Deaths\" **(1/2 mark)**\n",
    "1. Plot the \"Total Deaths\", using \"Weeks\" for the x axis and adding axis labels and a plot title **(1 mark)**\n",
    "1. Plot the three \"percentage\" columns, adding axis labels and a plot title **(1 mark)**"
   ]
  },
  {
   "cell_type": "code",
   "execution_count": null,
   "metadata": {
    "collapsed": false
   },
   "outputs": [],
   "source": [
    "# Answer for 3f\n",
    "%matplotlib  inline\n",
    "import pandas as pd\n",
    "\n",
    "df = pd.read_csv(\"nchs-mortality-report.csv\", skiprows=5) \n",
    "#print(df)\n",
    "print(df[\"COVID-19 Deaths\"].min())\n",
    "print(df[\"COVID-19 Deaths\"].max())\n",
    "df.plot(x=\"Week\", y=[\"Total Deaths\"], kind=\"bar\")\n",
    "df.plot(x=\"Week\", y=[\"Pneumonia, Influenza or COVID-19 Deaths%\",\"Baseline%\",\"Threshold%\"], kind=\"bar\")\n"
   ]
  },
  {
   "cell_type": "markdown",
   "metadata": {},
   "source": [
    "## * [Back to Top](#Contents)\n",
    "____\n",
    "### Question 4 - Scripting and Automation (8 marks)\n",
    "\n",
    "#### Question 4a (2 marks) \n",
    "\n",
    "Provide an example of where a parameter sweep could be applied **(1 mark)**. Describe the role of the driver and the base code in the parameter sweep for your chosen example **(1 mark)**."
   ]
  },
  {
   "cell_type": "markdown",
   "metadata": {},
   "source": [
    "*Question 4a answer...*"
   ]
  },
  {
   "cell_type": "markdown",
   "metadata": {},
   "source": [
    "#### Question 4b (2 marks)\n",
    "\n",
    "Describe a application where you might use command line arguments **(1 mark)**, and two benefits they would give for your program **(1 mark)**"
   ]
  },
  {
   "cell_type": "markdown",
   "metadata": {},
   "source": [
    "*Question 4b answer...*"
   ]
  },
  {
   "cell_type": "markdown",
   "metadata": {},
   "source": [
    "#### Question 4c (2 marks)\n",
    "\n",
    "Change the program **flexible.py** (below) so it can accept command line arguments, and could be run as: \n",
    "\n",
    "    python3 flexible.py SPAM 42                 # print SPAM 42 times\n",
    "    \n",
    "(You won't be able to run it through Jupyter Notebook - just make the code changes)"
   ]
  },
  {
   "cell_type": "code",
   "execution_count": null,
   "metadata": {
    "collapsed": false
   },
   "outputs": [],
   "source": [
    "# Question 4c - flexible.py\n",
    "\n",
    "repeats = 5\n",
    "outstring = \"EGGS\"\n",
    "\n",
    "for i in range(repeats):\n",
    "    print(outstring)\n"
   ]
  },
  {
   "cell_type": "markdown",
   "metadata": {},
   "source": [
    "#### Question 4d (2 marks)\n",
    "\n",
    "Update the regular expression code (within messyRegex) to match (specifically) the messy data in the file **messy.txt**"
   ]
  },
  {
   "cell_type": "code",
   "execution_count": null,
   "metadata": {
    "collapsed": false
   },
   "outputs": [],
   "source": [
    "import re\n",
    "\n",
    "phoneRegex = re.compile(r'''(\n",
    "            (\\w+)             \n",
    "            :\\s\n",
    "            (\\d{8})\n",
    "            )''', re.VERBOSE)     # update the regular expression \n",
    "                                  # in preceding lines\n",
    "                                  # do not alter the lines below\n",
    "fileobj = open('messy.txt')\n",
    "data = fileobj.readlines()\n",
    "names = []\n",
    "numbers = []\n",
    "num_lines = len(data)\n",
    "num_matched = 0\n",
    "\n",
    "for number in data:\n",
    "    number = number.strip()\n",
    "    mo = phoneRegex.search(number)\n",
    "    if mo:\n",
    "        names.append(mo.group(2))   \n",
    "        numbers.append(mo.group(3))   \n",
    "        num_matched +=1\n",
    "        \n",
    "for i in range(len(names)):\n",
    "    print(\"Name: \", names[i], \"Number: \", numbers[i])\n",
    "print(\">>>\", num_matched, \"of\", num_lines, \"matched\")"
   ]
  },
  {
   "cell_type": "code",
   "execution_count": null,
   "metadata": {
    "collapsed": true
   },
   "outputs": [],
   "source": []
  },
  {
   "cell_type": "raw",
   "metadata": {},
   "source": []
  },
  {
   "cell_type": "markdown",
   "metadata": {},
   "source": [
    "* [Back to Top](#Contents)\n",
    "____\n",
    "### Question 5 - Objects and Sharing (10 marks)\n",
    "\n",
    "#### Question 5a (3 marks)\n",
    "\n",
    "Provide code to define a class **movie** to represent individual movie objects. The class should include:\n",
    "* title\n",
    "* year\n",
    "* actor list \n",
    "* quotes list\n",
    "\n",
    "The movie object should be initialised with the title and year. The other values should be added using **methods** . You should be able to convert the object to a string, using a method.\n",
    "\n",
    "Create and print two movie objects as a test of your class.\n",
    "\n",
    "There is sample data in the file **amusements.txt** (ignore any fields not required for the question)\n"
   ]
  },
  {
   "cell_type": "code",
   "execution_count": null,
   "metadata": {
    "collapsed": true
   },
   "outputs": [],
   "source": [
    "# code for 5a here\n"
   ]
  },
  {
   "cell_type": "markdown",
   "metadata": {},
   "source": [
    "#### Question 5b (3 marks)\n",
    "\n",
    "Provide code to define a class **book** to represent individual book objects. The class should include:\n",
    "* title\n",
    "* year\n",
    "* author list \n",
    "* quotes list\n",
    "\n",
    "The book object should be initialised with the title and year. The other values should be added using **methods** . You should be able to convert the object to a string, using a method.\n",
    "\n",
    "Create and print two book objects as a test of your class.\n",
    "\n",
    "There are examples in the file **amusements.txt** (ignore any fields not required for the question)\n"
   ]
  },
  {
   "cell_type": "code",
   "execution_count": null,
   "metadata": {
    "collapsed": true
   },
   "outputs": [],
   "source": [
    "# code for 5b here"
   ]
  },
  {
   "cell_type": "markdown",
   "metadata": {},
   "source": [
    "#### Question 5c (4 marks)\n",
    "\n",
    "Now provide code to:\n",
    "1. Read the movie and book information from the supplied file **amusements.txt** (you can add your own movies/books to the file) **(2 marks)**\n",
    "1. Print the movies and books out, including all fields as shown below **(2 marks)**\n",
    "   * Title (Date)\n",
    "   * Authors/Actors\n",
    "   * Quotes - each starts on a new line\n",
    "   \n",
    "<pre>\n",
    "Title: Monty Python and the Holy Grail\" (1975)\n",
    "Actors/Authors: \n",
    "    John Cleese\n",
    "    Michael Palin\n",
    "    [...]\n",
    "Quotes: \n",
    "    \"It's just a flesh wound!\"\n",
    "    \"Run away!\"\n",
    "</pre>              \n",
    "\n",
    "**Bonus marks:** refactor your classes to use inheritance for common parts of **books** and **movies**, then utilise this throughout Question 5 **(2 marks)**"
   ]
  },
  {
   "cell_type": "code",
   "execution_count": null,
   "metadata": {
    "collapsed": true
   },
   "outputs": [],
   "source": [
    "# code for 5c here"
   ]
  },
  {
   "cell_type": "markdown",
   "metadata": {},
   "source": [
    "* [Back to Top](#Contents)\n",
    "____\n",
    "## One Last thing...\n",
    "Copy and paste the version information for packages in this cell, and into your README file. You generate it by running the code in the cell below...\n",
    "\n",
    "My package version information is: \n",
    "\n",
    "* pandas==0.23.4 (example)\n",
    "* numpy==1.15.1 (example)\n",
    "* matplotlib==2.2.3 (example)"
   ]
  },
  {
   "cell_type": "code",
   "execution_count": null,
   "metadata": {
    "collapsed": false
   },
   "outputs": [],
   "source": [
    "import pkg_resources\n",
    "# don't change this code \n",
    "# list packages to show your environment \n",
    "# from https://stackoverflow.com/questions/40428931/package-for-listing-version-of-packages-used-in-a-jupyter-notebook\n",
    "root_packages = ['pandas', 'numpy', 'matplotlib']\n",
    "# print versions, but check if package is imported first\n",
    "# syntax error fix from Piazza post @546\n",
    "# 0\n",
    "for m in pkg_resources.working_set:\n",
    "    if m.project_name.lower() in root_packages:\n",
    "        print(m.project_name, \"==\", m.version)"
   ]
  },
  {
   "cell_type": "code",
   "execution_count": null,
   "metadata": {
    "collapsed": true
   },
   "outputs": [],
   "source": []
  }
 ],
 "metadata": {
  "anaconda-cloud": {},
  "kernelspec": {
   "display_name": "Python [default]",
   "language": "python",
   "name": "python3"
  },
  "language_info": {
   "codemirror_mode": {
    "name": "ipython",
    "version": 3
   },
   "file_extension": ".py",
   "mimetype": "text/x-python",
   "name": "python",
   "nbconvert_exporter": "python",
   "pygments_lexer": "ipython3",
   "version": "3.5.6"
  }
 },
 "nbformat": 4,
 "nbformat_minor": 2
}
